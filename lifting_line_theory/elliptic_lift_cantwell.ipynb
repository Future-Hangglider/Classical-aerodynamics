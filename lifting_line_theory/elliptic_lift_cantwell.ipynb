{
 "cells": [
  {
   "cell_type": "markdown",
   "metadata": {},
   "source": [
    "### A problematic integral in lifting line theory\n",
    "\n",
    "The lifting line theory assumes that the profile of lifting forces $\\Gamma(y)$ along the span of the wing of wingspan $b$, aligned with the $y$-axis from $y=-b/2$ to $y=b/2$, generates a sheet of line vortices emerging from the trailing edge of the wing whose induced airflows can be summed to give the global pattern of two counter-vortices at the wing tips so that the air between them is in a downwash of velocity $U(y)$.  \n",
    "\n",
    "The induced airflow of each line vortex (parallel to the $x$-axis, perpendicular to the span $y$-axis) at position $y_0$ as experienced at position $y$ is, by the simplest theory of fluid dynamics, proportional to $-1/(y-y_0)$.  That is, the airflow is downwards to the positive side of $y_0$ and upwards to the negative side of each vortex.  \n",
    "\n",
    "If we face this trailing edge of the wing (looking along the $x$-axis in the negative direction towards the front of the aircraft), and the vortices on the left (the negative $y$ side) spin clockwise and the vortices on the right spin counter-clockwise, then the sum of the airflows will create a general downflow of air along the wing span between the wing tips. \n",
    "\n",
    "$$U(y) = -\\frac{1}{4\\pi}\\int_{-b/2}^{b/2}\\frac{d\\Gamma(y_0)}{dy_0}\\frac{1}{y - y_0} dy_0$$\n",
    "\n",
    "This is given in Equation (12.43) of section 12.5 (Prandtl's equation of finite wing theory) in [AA200_Ch_12_Wings_of_Finite_Span_Cantwell](https://web.stanford.edu/~cantwell/AA200_Course_Material/AA200_Course_Notes/AA200_Ch_12_Wings_of_Finite_Span_Cantwell.pdf).  The problem is that it is a sum over a singularity when $y_0 = y$ so the fundamental theorem of calculus does not apply.\n",
    "\n",
    "While the lifting force function $\\Gamma(y)$ does not need to be symmetric, but must go to zero at the wing tips.  In other words $\\Gamma(-b/2) = \\Gamma(b/2) = 0$"
   ]
  },
  {
   "cell_type": "markdown",
   "metadata": {},
   "source": [
    "### A constant downwash velocity is the most efficient\n",
    "\n",
    "In order for the wing to be flying and not be accelerating downwards, the momentum of the air in the downwash needs to equal the weight of the aircraft's mass under the influence of gravity.  \n",
    "\n",
    "Now, this downwash of air represents an unavoidable expense of kinetic energy, which a glider will must to obtain through a loss of potential energy by descending towards the ground.  It is also -- according to the theory -- responsible for the \"induced angle of attack\" owing to the notion that each section of the wing is flying in a downwash made by all other parts of the wing.  \n",
    "\n",
    "Suppose that the wing span is $b$ (along the $y$-axis), the velocity of the downwash (in the $-z$ direction) is $U(y)$, with $-b/2 < y < b/2$, then the momentum per second of this downwash is: \n",
    " $$\\int_{-b/2}^{b/2} \\rho A U(y) dy $$\n",
    "where $\\rho$ is the air density and $A$ is the area thickness of the cross-sectional sheet on which the downwash is imparted.  Think of it as the height of the envelope of air above and below the wing that forms part of the downwash times the forward velocity of the aircraft.  Its units are square metres per second, so that the total volume of the downwash (in this idealized case) is $Ab$ cubic metres per second.  \n",
    "\n",
    "(There is no reason to assume that the thickness of or downwash within the envelope is constant, but assume it for now.) \n",
    "\n",
    "Accordingly, the kinetic energy lost to this downwash is:\n",
    " $$\\int_{-b/2}^{b/2} \\frac{\\rho A}{2} U(y)^2 dy $$\n",
    "\n",
    "Of all the possible downwash profiles along the wing, the one with the greatest efficiency (least value for kinetic energy) for a given lift force (momentum per second) $Mg$ (aircraft mass $M$, gravitational acceleration $g$) is the constant profile:\n",
    " $$U(y) = \\frac{Mg}{b\\rho A}$$\n",
    "\n",
    "The kinetic energy embodied by this constant velocity downwash is: \n",
    "  $$b \\frac{\\rho A}{2} \\frac{M^2 g^2}{b^2 \\rho^2 A^2} = \\frac{M^2 g^2}{2 b \\rho A}$$\n",
    "This represents the potential energy of a distance \n",
    "  $$\\frac{M g}{2 b \\rho A}$$\n",
    "in the vertical direction, which is the absolute minimum sink rate for a glider given these parameters.  This checks out if you compare the units.  \n",
    "\n",
    "For my hang-glider, the total mass of 100kg, $g=10$, forward velocity 15 m/s, air density is 1 m/s, wing span 10 m/s and wildly guess an envelope thickness of 3 m, then the sink rate must exceed 1.11 m/s.  "
   ]
  },
  {
   "cell_type": "markdown",
   "metadata": {},
   "source": [
    "### An elliptic lift distribution generates a constant downwash velocity along the wing\n",
    "\n",
    "Refer to section 12.6 of \n",
    "The task is to prove that [AA200_Ch_12_Wings_of_Finite_Span_Cantwell](https://web.stanford.edu/~cantwell/AA200_Course_Material/AA200_Course_Notes/AA200_Ch_12_Wings_of_Finite_Span_Cantwell.pdf) which seeks to prove that the downwash velocity on a wing with an elliptic lift distribution is constant.\n",
    "\n",
    "![elliptic lift](ellipticlift.png)\n",
    "\n",
    "We now use SymPy, which is a mathematical symbolic manipulator, to make sure there are no trivial mistakes in the equations."
   ]
  },
  {
   "cell_type": "code",
   "execution_count": 52,
   "metadata": {},
   "outputs": [
    {
     "name": "stdout",
     "output_type": "stream",
     "text": [
      "We write Equation (12.43) as:\n"
     ]
    },
    {
     "data": {
      "image/png": "[encoded data removed]",
      "text/latex": [
       "$$U{\\left (y \\right )} = - \\frac{\\int_{- \\frac{b}{2}}^{\\frac{b}{2}} \\frac{\\frac{d}{d y_{0}} \\Gamma{\\left (y_{0} \\right )}}{y - y_{0}}\\, dy_{0}}{4 \\pi}$$"
      ],
      "text/plain": [
       "         b                   \n",
       "         ─                   \n",
       "         2                   \n",
       "         ⌠                   \n",
       "         ⎮   d               \n",
       "         ⎮  ───(Γ(y₀))       \n",
       "         ⎮  dy₀              \n",
       "       - ⎮  ────────── d(y₀) \n",
       "         ⎮    y - y₀         \n",
       "         ⌡                   \n",
       "        -b                   \n",
       "        ───                  \n",
       "         2                   \n",
       "U(y) = ──────────────────────\n",
       "                4⋅π          "
      ]
     },
     "metadata": {},
     "output_type": "display_data"
    }
   ],
   "source": [
    "import sympy as sp\n",
    "sp.init_printing()\n",
    "from IPython.display import display\n",
    "Gamma0, b = sp.symbols(\"Gamma_0 b\", real=True, positive=True)\n",
    "y, y0 = sp.symbols(\"y y_0\", real=True)\n",
    "Gammafunc = sp.Function(\"Gamma\")(y)\n",
    "Ufunc = sp.Function(\"U\")(y)\n",
    "Gammafuncdiff = sp.diff(Gammafunc, y).subs(y, y0)\n",
    "GG = sp.Function(\"Gamma_G\")(y0)\n",
    "UexprGG = -1/(4*sp.pi) * sp.integrate(GG/(y - y0), (y0, -b/2, b/2))\n",
    "Uexpr = UexprGG.subs(GG, Gammafuncdiff)\n",
    "\n",
    "print(\"We write Equation (12.43) as:\")\n",
    "display(sp.Eq(Ufunc, Uexpr))\n"
   ]
  },
  {
   "cell_type": "code",
   "execution_count": 42,
   "metadata": {},
   "outputs": [
    {
     "name": "stdout",
     "output_type": "stream",
     "text": [
      "And assign the elliptical lift distibution in Equation (12.53) like so:\n"
     ]
    },
    {
     "data": {
      "image/png": "[encoded data removed]",
      "text/latex": [
       "$$\\frac{\\Gamma{\\left (y \\right )}}{\\Gamma_{0}} = \\sqrt{1 - \\frac{4 y^{2}}{b^{2}}}$$"
      ],
      "text/plain": [
       "             __________\n",
       "            ╱        2 \n",
       "Γ(y)       ╱      4⋅y  \n",
       "──── =    ╱   1 - ──── \n",
       " Γ₀      ╱          2  \n",
       "       ╲╱          b   "
      ]
     },
     "metadata": {},
     "output_type": "display_data"
    }
   ],
   "source": [
    "Gammaexp = Gamma0*sp.sqrt(1 - (2*y/b)**2)\n",
    "print(\"And assign the elliptical lift distibution in Equation (12.53) like so:\")\n",
    "display(sp.Eq(Gammafunc/Gamma0, Gammaexp/Gamma0))"
   ]
  },
  {
   "cell_type": "code",
   "execution_count": 50,
   "metadata": {},
   "outputs": [
    {
     "name": "stdout",
     "output_type": "stream",
     "text": [
      "Therefore:\n"
     ]
    },
    {
     "data": {
      "image/png": "[encoded data removed]",
      "text/latex": [
       "$$\\frac{d}{d y} \\Gamma{\\left (y \\right )} = - \\frac{4 \\Gamma_{0} y}{b^{2} \\sqrt{1 - \\frac{4 y^{2}}{b^{2}}}}$$"
      ],
      "text/plain": [
       "d                -4⋅Γ₀⋅y      \n",
       "──(Γ(y)) = ───────────────────\n",
       "dy                  __________\n",
       "                   ╱        2 \n",
       "            2     ╱      4⋅y  \n",
       "           b ⋅   ╱   1 - ──── \n",
       "                ╱          2  \n",
       "              ╲╱          b   "
      ]
     },
     "metadata": {},
     "output_type": "display_data"
    }
   ],
   "source": [
    "print(\"Therefore:\")\n",
    "display(sp.Eq(sp.diff(Gammafunc),  sp.diff(Gammaexp, y)))\n"
   ]
  },
  {
   "cell_type": "code",
   "execution_count": 84,
   "metadata": {},
   "outputs": [
    {
     "data": {
      "image/png": "[encoded data removed]",
      "text/latex": [
       "$$- \\frac{4 \\Gamma_{0} y_{0}}{b^{2} \\sqrt{1 - \\frac{4 y_{0}^{2}}{b^{2}}}}$$"
      ],
      "text/plain": [
       "     -4⋅Γ₀⋅y₀       \n",
       "────────────────────\n",
       "         ___________\n",
       "        ╱         2 \n",
       " 2     ╱      4⋅y₀  \n",
       "b ⋅   ╱   1 - ───── \n",
       "     ╱           2  \n",
       "   ╲╱           b   "
      ]
     },
     "execution_count": 84,
     "metadata": {},
     "output_type": "execute_result"
    }
   ],
   "source": [
    "sp.diff(Gammaexp, y).subs(y, y0)"
   ]
  },
  {
   "cell_type": "code",
   "execution_count": 85,
   "metadata": {},
   "outputs": [
    {
     "name": "stdout",
     "output_type": "stream",
     "text": [
      "Substituting this elliptical lift distribution into the equation gives:\n"
     ]
    },
    {
     "data": {
      "image/png": "[encoded data removed]",
      "text/latex": [
       "$$U{\\left (y \\right )} = - \\frac{\\int_{- \\frac{b}{2}}^{\\frac{b}{2}} \\left(- \\frac{4 \\Gamma_{0} y_{0}}{b^{2} \\sqrt{1 - \\frac{4 y_{0}^{2}}{b^{2}}} \\left(y - y_{0}\\right)}\\right)\\, dy_{0}}{4 \\pi}$$"
      ],
      "text/plain": [
       "         b                                      \n",
       "         ─                                      \n",
       "         2                                      \n",
       "         ⌠                                      \n",
       "         ⎮            -4⋅Γ₀⋅y₀                  \n",
       "       - ⎮  ───────────────────────────── d(y₀) \n",
       "         ⎮           ___________                \n",
       "         ⎮          ╱         2                 \n",
       "         ⎮   2     ╱      4⋅y₀                  \n",
       "         ⎮  b ⋅   ╱   1 - ───── ⋅(y - y₀)       \n",
       "         ⎮       ╱           2                  \n",
       "         ⎮     ╲╱           b                   \n",
       "         ⌡                                      \n",
       "        -b                                      \n",
       "        ───                                     \n",
       "         2                                      \n",
       "U(y) = ─────────────────────────────────────────\n",
       "                          4⋅π                   "
      ]
     },
     "metadata": {},
     "output_type": "display_data"
    },
    {
     "name": "stdout",
     "output_type": "stream",
     "text": [
      "This is equivalent to Equation (12.56)\n"
     ]
    }
   ],
   "source": [
    "print(\"Substituting this elliptical lift distribution into the equation gives:\")\n",
    "Uexpre = UexprGG.subs(GG, sp.diff(Gammaexp, y).subs(y, y0))\n",
    "display(sp.Eq(Ufunc, Uexpre))\n",
    "print(\"This is equivalent to Equation (12.56)\")"
   ]
  },
  {
   "cell_type": "code",
   "execution_count": 98,
   "metadata": {},
   "outputs": [
    {
     "name": "stdout",
     "output_type": "stream",
     "text": [
      "by substituting:\n"
     ]
    },
    {
     "data": {
      "image/png": "[encoded data removed]",
      "text/latex": [
       "$$y = \\frac{b \\sin{\\left (\\theta \\right )}}{2}$$"
      ],
      "text/plain": [
       "    b⋅sin(θ)\n",
       "y = ────────\n",
       "       2    "
      ]
     },
     "metadata": {},
     "output_type": "display_data"
    },
    {
     "data": {
      "image/png": "[encoded data removed]",
      "text/latex": [
       "$$y_{0} = \\frac{b \\sin{\\left (\\theta_{0} \\right )}}{2}$$"
      ],
      "text/plain": [
       "     b⋅sin(θ₀)\n",
       "y₀ = ─────────\n",
       "         2    "
      ]
     },
     "metadata": {},
     "output_type": "display_data"
    }
   ],
   "source": [
    "theta, theta0 = sp.symbols(\"theta theta_0\")\n",
    "yexp = b*sp.sin(theta)/2\n",
    "y0exp = b*sp.sin(theta0)/2\n",
    "print(\"by substituting:\")\n",
    "display(sp.Eq(y, yexp))\n",
    "display(sp.Eq(y0, y0exp))\n"
   ]
  },
  {
   "cell_type": "code",
   "execution_count": 99,
   "metadata": {},
   "outputs": [
    {
     "name": "stdout",
     "output_type": "stream",
     "text": [
      "This gives us the same equation as (12.57):\n"
     ]
    },
    {
     "data": {
      "image/png": "[encoded data removed]",
      "text/latex": [
       "$$U{\\left (y \\right )} = - \\frac{\\int_{- \\frac{\\pi}{2}}^{\\frac{\\pi}{2}} \\left(- \\frac{2 \\Gamma_{0} \\sin{\\left (\\theta_{0} \\right )} \\cos{\\left (\\theta_{0} \\right )}}{b \\left(\\sin{\\left (\\theta \\right )} - \\sin{\\left (\\theta_{0} \\right )}\\right) \\sqrt{\\cos^{2}{\\left (\\theta_{0} \\right )}}}\\right)\\, d\\theta_{0}}{4 \\pi}$$"
      ],
      "text/plain": [
       "         π                                           \n",
       "         ─                                           \n",
       "         2                                           \n",
       "         ⌠                                           \n",
       "         ⎮        -2⋅Γ₀⋅sin(θ₀)⋅cos(θ₀)              \n",
       "       - ⎮  ────────────────────────────────── d(θ₀) \n",
       "         ⎮                          __________       \n",
       "         ⎮                         ╱    2            \n",
       "         ⎮  b⋅(sin(θ) - sin(θ₀))⋅╲╱  cos (θ₀)        \n",
       "         ⌡                                           \n",
       "        -π                                           \n",
       "        ───                                          \n",
       "         2                                           \n",
       "U(y) = ──────────────────────────────────────────────\n",
       "                            4⋅π                      "
      ]
     },
     "metadata": {},
     "output_type": "display_data"
    }
   ],
   "source": [
    "GGt = sp.Function(\"Gamma_G\")(theta0)\n",
    "Gammaexpdiff = sp.diff(Gammaexp, y).subs(y, y0exp).simplify()\n",
    "UexprGGt = -1/(4*sp.pi) * sp.integrate(GGt/(yexp - y0exp) * y0exp.diff(theta0), (theta0, -sp.pi/2, sp.pi/2))\n",
    "UexprGGts = UexprGGt.subs(GGt, Gammaexpdiff)\n",
    "print(\"This gives us the same equation as (12.57):\")\n",
    "display(sp.Eq(Ufunc, UexprGGts))\n"
   ]
  },
  {
   "cell_type": "code",
   "execution_count": 107,
   "metadata": {},
   "outputs": [
    {
     "name": "stdout",
     "output_type": "stream",
     "text": [
      "It is difficult to transform this by fair use of sympy, so we\n",
      "simply have to rewrite it as Equation (12.58):\n"
     ]
    },
    {
     "data": {
      "image/png": "[encoded data removed]",
      "text/latex": [
       "$$U{\\left (y \\right )} = \\frac{\\Gamma_{0} \\int_{- \\frac{\\pi}{2}}^{\\frac{\\pi}{2}} \\frac{\\sin{\\left (\\theta_{0} \\right )}}{\\sin{\\left (\\theta \\right )} - \\sin{\\left (\\theta_{0} \\right )}}\\, d\\theta_{0}}{2 \\pi b}$$"
      ],
      "text/plain": [
       "           π                        \n",
       "           ─                        \n",
       "           2                        \n",
       "           ⌠                        \n",
       "           ⎮      sin(θ₀)           \n",
       "       Γ₀⋅ ⎮  ──────────────── d(θ₀)\n",
       "           ⎮  sin(θ) - sin(θ₀)      \n",
       "           ⌡                        \n",
       "          -π                        \n",
       "          ───                       \n",
       "           2                        \n",
       "U(y) = ─────────────────────────────\n",
       "                   2⋅π⋅b            "
      ]
     },
     "execution_count": 107,
     "metadata": {},
     "output_type": "execute_result"
    }
   ],
   "source": [
    "print(\"It is difficult to transform this by fair use of sympy, so we\")\n",
    "print(\"simply have to rewrite it as Equation (12.58):\")\n",
    "Uexprhgrand = sp.Function(\"U_g\")(theta0)\n",
    "Uexprhgrandexp = sp.sin(theta0)/(sp.sin(theta) - sp.sin(theta0))\n",
    "Uexprh = Gamma0/(2*sp.pi*b) * sp.integrate(Uexprhgrand, (theta0, -sp.pi/2, sp.pi/2)).subs(Uexprhgrand, Uexprhgrandexp)\n",
    "sp.Eq(Ufunc, Uexprh)\n"
   ]
  },
  {
   "cell_type": "code",
   "execution_count": 136,
   "metadata": {},
   "outputs": [
    {
     "name": "stdout",
     "output_type": "stream",
     "text": [
      "Now, according to Equation (12.59) the integral should be:\n"
     ]
    },
    {
     "data": {
      "image/png": "[encoded data removed]",
      "text/latex": [
       "$$U{\\left (y \\right )} = \\frac{\\Gamma_{0} \\left(- W{\\left (- \\frac{\\pi}{2} \\right )} + W{\\left (\\frac{\\pi}{2} \\right )}\\right)}{2 \\pi b}$$"
      ],
      "text/plain": [
       "          ⎛   ⎛-π ⎞    ⎛π⎞⎞\n",
       "       Γ₀⋅⎜- W⎜───⎟ + W⎜─⎟⎟\n",
       "          ⎝   ⎝ 2 ⎠    ⎝2⎠⎠\n",
       "U(y) = ────────────────────\n",
       "              2⋅π⋅b        "
      ]
     },
     "metadata": {},
     "output_type": "display_data"
    },
    {
     "name": "stdout",
     "output_type": "stream",
     "text": [
      "where:\n"
     ]
    },
    {
     "data": {
      "image/png": "[encoded data removed]",
      "text/latex": [
       "$$W{\\left (\\theta_{0} \\right )} = - \\theta_{0} + \\log{\\left (- \\frac{\\cos{\\left (\\theta + \\theta_{0} \\right )}}{\\sin{\\left (\\theta - \\theta_{0} \\right )}} \\right )} \\tan{\\left (\\theta \\right )}$$"
      ],
      "text/plain": [
       "                 ⎛-cos(θ + θ₀) ⎞       \n",
       "W(θ₀) = -θ₀ + log⎜─────────────⎟⋅tan(θ)\n",
       "                 ⎝ sin(θ - θ₀) ⎠       "
      ]
     },
     "metadata": {},
     "output_type": "display_data"
    },
    {
     "name": "stdout",
     "output_type": "stream",
     "text": [
      "resulting in Equation (12.60)\n"
     ]
    },
    {
     "data": {
      "image/png": "[encoded data removed]",
      "text/latex": [
       "$$W{\\left (\\theta_{0} \\right )} = - \\frac{\\Gamma_{0}}{2 b}$$"
      ],
      "text/plain": [
       "        -Γ₀ \n",
       "W(θ₀) = ────\n",
       "        2⋅b "
      ]
     },
     "metadata": {},
     "output_type": "display_data"
    }
   ],
   "source": [
    "print(\"Now, according to Equation (12.59) the integral should be:\")\n",
    "Wfunc = sp.Function(\"W\")\n",
    "display(sp.Eq(Ufunc, Gamma0/(2*sp.pi*b)*(Wfunc(sp.pi/2) - Wfunc(-sp.pi/2))))\n",
    "print(\"where:\")\n",
    "Wexpr = -theta0 + sp.tan(theta)*sp.log(sp.cos(theta0 + theta)/sp.sin(theta0 - theta))\n",
    "display(sp.Eq(Wfunc(theta0), Wexpr))\n",
    "print(\"resulting in Equation (12.60)\")\n",
    "display(sp.Eq(Wfunc(theta0), Gamma0/(2*sp.pi*b)*(Wexpr.subs(theta0, sp.pi/2) - Wexpr.subs(theta0, -sp.pi/2))))\n"
   ]
  },
  {
   "cell_type": "markdown",
   "metadata": {},
   "source": [
    "Here is the actual text from the book:\n",
    "![elliptic lift bad integral](ellipticliftbadintegral.png)"
   ]
  },
  {
   "cell_type": "code",
   "execution_count": 144,
   "metadata": {},
   "outputs": [
    {
     "name": "stdout",
     "output_type": "stream",
     "text": [
      "The problem is that it does not seem to be so, because\n"
     ]
    },
    {
     "data": {
      "image/png": "[encoded data removed]",
      "text/latex": [
       "$$\\frac{d}{d \\theta_{0}} W{\\left (\\theta_{0} \\right )} = -1 + \\frac{\\cos{\\left (2 \\theta \\right )} \\tan{\\left (\\theta \\right )}}{\\sin{\\left (\\theta - \\theta_{0} \\right )} \\cos{\\left (\\theta + \\theta_{0} \\right )}}$$"
      ],
      "text/plain": [
       " d                    cos(2⋅θ)⋅tan(θ)    \n",
       "───(W(θ₀)) = -1 + ───────────────────────\n",
       "dθ₀               sin(θ - θ₀)⋅cos(θ + θ₀)"
      ]
     },
     "metadata": {},
     "output_type": "display_data"
    },
    {
     "name": "stdout",
     "output_type": "stream",
     "text": [
      "does not appear to correspond with the integrand:\n"
     ]
    },
    {
     "data": {
      "image/png": "[encoded data removed]",
      "text/latex": [
       "$$\\frac{\\sin{\\left (\\theta_{0} \\right )}}{\\sin{\\left (\\theta \\right )} - \\sin{\\left (\\theta_{0} \\right )}}$$"
      ],
      "text/plain": [
       "    sin(θ₀)     \n",
       "────────────────\n",
       "sin(θ) - sin(θ₀)"
      ]
     },
     "metadata": {},
     "output_type": "display_data"
    }
   ],
   "source": [
    "print(\"The problem is that it is not so, because\")\n",
    "display(sp.Eq(sp.diff(Wfunc(theta0), theta0), sp.diff(Wexpr, theta0).simplify()))\n",
    "print(\"does not match the integrand:\")\n",
    "display(Uexprhgrandexp)"
   ]
  },
  {
   "cell_type": "markdown",
   "metadata": {},
   "source": [
    "From the other notebook [integrate sin by sin plus a](integrate_sinbysinplusa.ipynb) we can quote the result that:\n",
    "\n",
    "$$\\lim_{\\epsilon \\to 0} \\left(\n",
    "\\int_{-\\frac{\\pi}{2}}^{b-\\epsilon} \\frac{\\sin(x)}{\\sin(b)-\\sin(x)} dx + \n",
    "\\int_{b+m\\epsilon}^{\\frac{\\pi}{2}} \\frac{\\sin(x)}{\\sin(b)-\\sin(x)} dx \n",
    "    \\right) = \\log(m)\\tan(b) - \\pi$$\n",
    "\n",
    "The value $m$ is included to show that any result can be obtained across a singularity, depending on how fast the limit converges from either side.  \n",
    "\n",
    "However, since the substitution was $y=b\\sin\\theta/2$, which is differentiable, then if convergence to the singularity at $y_0=y$ from both sides symmetrically is a fair thing to do, then it will also be the same in the $\\theta_0$ domain, so that $m=1$ and the integral can be taken to be $-\\pi$.\n"
   ]
  },
  {
   "cell_type": "code",
   "execution_count": null,
   "metadata": {},
   "outputs": [],
   "source": []
  },
  {
   "cell_type": "code",
   "execution_count": null,
   "metadata": {},
   "outputs": [],
   "source": []
  },
  {
   "cell_type": "code",
   "execution_count": null,
   "metadata": {},
   "outputs": [],
   "source": []
  },
  {
   "cell_type": "code",
   "execution_count": null,
   "metadata": {},
   "outputs": [],
   "source": []
  },
  {
   "cell_type": "code",
   "execution_count": null,
   "metadata": {},
   "outputs": [],
   "source": []
  },
  {
   "cell_type": "code",
   "execution_count": null,
   "metadata": {},
   "outputs": [],
   "source": []
  },
  {
   "cell_type": "code",
   "execution_count": null,
   "metadata": {},
   "outputs": [],
   "source": [
    "# Refer to other notebook for the solution to this integral\n",
    "\n",
    "# Check about that fudge factor across the singularity, and what \n",
    "# value of m might be allowed\n",
    "\n",
    "# It looks like m=1 is probably okay because of differentiability\n",
    "# on th substitution being like a straight line\n",
    "\n",
    "# Look at the unsteady momentum integral 12.12 and momentum generated \n",
    "# by point force in chapter 10"
   ]
  },
  {
   "cell_type": "code",
   "execution_count": null,
   "metadata": {},
   "outputs": [],
   "source": []
  },
  {
   "cell_type": "code",
   "execution_count": null,
   "metadata": {},
   "outputs": [],
   "source": []
  }
 ],
 "metadata": {
  "kernelspec": {
   "display_name": "Python 3",
   "language": "python",
   "name": "python3"
  },
  "language_info": {
   "codemirror_mode": {
    "name": "ipython",
    "version": 3
   },
   "file_extension": ".py",
   "mimetype": "text/x-python",
   "name": "python",
   "nbconvert_exporter": "python",
   "pygments_lexer": "ipython3",
   "version": "3.7.0"
  }
 },
 "nbformat": 4,
 "nbformat_minor": 2
}
