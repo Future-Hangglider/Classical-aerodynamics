{
 "cells": [
  {
   "cell_type": "markdown",
   "metadata": {},
   "source": [
    "## Basic integration problems\n",
    "\n",
    "Summing vortices in a vortex sheet from a elliptically loaded lifting line requires the \n",
    "evaluation of a difficult integral prove that the downwash is constant.  \n",
    "\n",
    "Rather than in-lining and glossing over this tricky calculation \n",
    "within the mathematical explanation, we bring it up and solve it \n",
    "here so that we may quote it properly when it is applied.\n",
    "\n",
    "The task is to prove that ([Eq 12.58](https://web.stanford.edu/~cantwell/AA200_Course_Material/AA200_Course_Notes/AA200_Ch_12_Wings_of_Finite_Span_Cantwell.pdf)):\n",
    "$$\\int_{- \\frac{\\pi}{2}}^{\\frac{\\pi}{2}} \\frac{\\sin{\\left (x \\right )}}{\\sin{\\left (b \\right )} - \\sin{\\left (x \\right )}}\\, dx = \\pi$$\n",
    "while treating the singularity at $x=b$ properly.  \n",
    "\n",
    "The answer for $b=0$ is obvious.\n",
    "\n"
   ]
  },
  {
   "cell_type": "code",
   "execution_count": 205,
   "metadata": {},
   "outputs": [],
   "source": [
    "# Using sympy to do symbolic manipulations\n",
    "import sympy as sp\n",
    "sp.init_printing()\n",
    "from IPython.display import display\n",
    "x, a, b = sp.symbols(\"x a b\", real=True)\n"
   ]
  },
  {
   "cell_type": "code",
   "execution_count": 308,
   "metadata": {},
   "outputs": [
    {
     "name": "stdout",
     "output_type": "stream",
     "text": [
      "Define:\n"
     ]
    },
    {
     "data": {
      "image/png": "[encoded data removed]",
      "text/latex": [
       "$$\\operatorname{F_{1}}{\\left (x \\right )} = - \\log{\\left (\\tan{\\left (\\frac{b}{2} \\right )} - \\tan{\\left (\\frac{x}{2} \\right )} \\right )} + \\log{\\left (- \\tan{\\left (\\frac{x}{2} \\right )} + \\frac{1}{\\tan{\\left (\\frac{b}{2} \\right )}} \\right )}$$"
      ],
      "text/plain": [
       "             ⎛   ⎛b⎞      ⎛x⎞⎞      ⎛     ⎛x⎞     1   ⎞\n",
       "F₁(x) = - log⎜tan⎜─⎟ - tan⎜─⎟⎟ + log⎜- tan⎜─⎟ + ──────⎟\n",
       "             ⎝   ⎝2⎠      ⎝2⎠⎠      ⎜     ⎝2⎠      ⎛b⎞⎟\n",
       "                                    ⎜           tan⎜─⎟⎟\n",
       "                                    ⎝              ⎝2⎠⎠"
      ]
     },
     "metadata": {},
     "output_type": "display_data"
    }
   ],
   "source": [
    "F1 = sp.Function(\"F_1\")(x)\n",
    "F1expr = -(sp.log((sp.tan(-x/2)+sp.tan(b/2))) - sp.log((sp.tan(-x/2) + 1/sp.tan(b/2))))\n",
    "print(\"Define:\")\n",
    "display(sp.Eq(F1, F1expr))\n"
   ]
  },
  {
   "cell_type": "code",
   "execution_count": 309,
   "metadata": {},
   "outputs": [
    {
     "name": "stdout",
     "output_type": "stream",
     "text": [
      "Then:\n"
     ]
    },
    {
     "data": {
      "image/png": "[encoded data removed]",
      "text/latex": [
       "$$\\frac{d}{d x} \\operatorname{F_{1}}{\\left (x \\right )} = \\frac{\\cos{\\left (b \\right )}}{\\sin{\\left (b \\right )} - \\sin{\\left (x \\right )}}$$"
      ],
      "text/plain": [
       "d                cos(b)    \n",
       "──(F₁(x)) = ───────────────\n",
       "dx          sin(b) - sin(x)"
      ]
     },
     "metadata": {},
     "output_type": "display_data"
    }
   ],
   "source": [
    "dF1 = sp.diff(F1, x)\n",
    "dF1expr = dF1.subs(F1, F1expr).doit().simplify().simplify()\n",
    "print(\"Then:\")\n",
    "display(sp.Eq(dF1, dF1expr))"
   ]
  },
  {
   "cell_type": "code",
   "execution_count": 311,
   "metadata": {},
   "outputs": [
    {
     "name": "stdout",
     "output_type": "stream",
     "text": [
      "Define:\n"
     ]
    },
    {
     "data": {
      "image/png": "[encoded data removed]",
      "text/latex": [
       "$$F{\\left (x \\right )} = - x + \\operatorname{F_{1}}{\\left (x \\right )} \\tan{\\left (b \\right )}$$"
      ],
      "text/plain": [
       "F(x) = -x + F₁(x)⋅tan(b)"
      ]
     },
     "metadata": {},
     "output_type": "display_data"
    }
   ],
   "source": [
    "F = sp.Function(\"F\")(x)\n",
    "Fexpr = F1*sp.tan(b) - x\n",
    "print(\"Define:\")\n",
    "display(sp.Eq(F, Fexpr))"
   ]
  },
  {
   "cell_type": "code",
   "execution_count": 316,
   "metadata": {},
   "outputs": [
    {
     "name": "stdout",
     "output_type": "stream",
     "text": [
      "Then:\n"
     ]
    },
    {
     "data": {
      "image/png": "[encoded data removed]",
      "text/latex": [
       "$$\\frac{d}{d x} F{\\left (x \\right )} = \\frac{\\sin{\\left (x \\right )}}{\\sin{\\left (b \\right )} - \\sin{\\left (x \\right )}}$$"
      ],
      "text/plain": [
       "d               sin(x)    \n",
       "──(F(x)) = ───────────────\n",
       "dx         sin(b) - sin(x)"
      ]
     },
     "metadata": {},
     "output_type": "display_data"
    }
   ],
   "source": [
    "dF = sp.diff(F, x)\n",
    "dFexpr = dF.subs(F, Fexpr).doit().simplify().subs(dF1, dF1expr).simplify()\n",
    "print(\"Then:\")\n",
    "display(sp.Eq(dF, dFexpr))"
   ]
  },
  {
   "cell_type": "code",
   "execution_count": 409,
   "metadata": {},
   "outputs": [
    {
     "name": "stdout",
     "output_type": "stream",
     "text": [
      "If there was no singularity, then:\n"
     ]
    },
    {
     "data": {
      "image/png": "[encoded data removed]",
      "text/latex": [
       "$$\\int_{- \\frac{\\pi}{2}}^{\\frac{\\pi}{2}} \\frac{\\sin{\\left (x \\right )}}{\\sin{\\left (b \\right )} - \\sin{\\left (x \\right )}}\\, dx = - F{\\left (- \\frac{\\pi}{2} \\right )} + F{\\left (\\frac{\\pi}{2} \\right )}$$"
      ],
      "text/plain": [
       " π                                      \n",
       " ─                                      \n",
       " 2                                      \n",
       " ⌠                                      \n",
       " ⎮       sin(x)             ⎛-π ⎞    ⎛π⎞\n",
       " ⎮  ─────────────── dx = - F⎜───⎟ + F⎜─⎟\n",
       " ⎮  sin(b) - sin(x)         ⎝ 2 ⎠    ⎝2⎠\n",
       " ⌡                                      \n",
       "-π                                      \n",
       "───                                     \n",
       " 2                                      "
      ]
     },
     "metadata": {},
     "output_type": "display_data"
    },
    {
     "name": "stdout",
     "output_type": "stream",
     "text": [
      "And since:\n"
     ]
    },
    {
     "data": {
      "image/png": "[encoded data removed]",
      "text/latex": [
       "$$- F{\\left (- \\frac{\\pi}{2} \\right )} + F{\\left (\\frac{\\pi}{2} \\right )} = E \\tan{\\left (b \\right )} - \\pi$$"
      ],
      "text/plain": [
       "   ⎛-π ⎞    ⎛π⎞               \n",
       "- F⎜───⎟ + F⎜─⎟ = E⋅tan(b) - π\n",
       "   ⎝ 2 ⎠    ⎝2⎠               "
      ]
     },
     "metadata": {},
     "output_type": "display_data"
    },
    {
     "name": "stdout",
     "output_type": "stream",
     "text": [
      "where:\n"
     ]
    },
    {
     "data": {
      "image/png": "[encoded data removed]",
      "text/latex": [
       "$$E = - \\operatorname{F_{1}}{\\left (- \\frac{\\pi}{2} \\right )} + \\operatorname{F_{1}}{\\left (\\frac{\\pi}{2} \\right )}$$"
      ],
      "text/plain": [
       "        ⎛-π ⎞     ⎛π⎞\n",
       "E = - F₁⎜───⎟ + F₁⎜─⎟\n",
       "        ⎝ 2 ⎠     ⎝2⎠"
      ]
     },
     "metadata": {},
     "output_type": "display_data"
    },
    {
     "name": "stdout",
     "output_type": "stream",
     "text": [
      "which expands to:\n"
     ]
    },
    {
     "data": {
      "image/png": "[encoded data removed]",
      "text/latex": [
       "$$E = \\log{\\left (-1 + \\frac{1}{\\tan{\\left (\\frac{b}{2} \\right )}} \\right )} - \\log{\\left (1 + \\frac{1}{\\tan{\\left (\\frac{b}{2} \\right )}} \\right )} - \\log{\\left (\\tan{\\left (\\frac{b}{2} \\right )} - 1 \\right )} + \\log{\\left (\\tan{\\left (\\frac{b}{2} \\right )} + 1 \\right )}$$"
      ],
      "text/plain": [
       "       ⎛       1   ⎞      ⎛      1   ⎞      ⎛   ⎛b⎞    ⎞      ⎛   ⎛b⎞    ⎞\n",
       "E = log⎜-1 + ──────⎟ - log⎜1 + ──────⎟ - log⎜tan⎜─⎟ - 1⎟ + log⎜tan⎜─⎟ + 1⎟\n",
       "       ⎜        ⎛b⎞⎟      ⎜       ⎛b⎞⎟      ⎝   ⎝2⎠    ⎠      ⎝   ⎝2⎠    ⎠\n",
       "       ⎜     tan⎜─⎟⎟      ⎜    tan⎜─⎟⎟                                    \n",
       "       ⎝        ⎝2⎠⎠      ⎝       ⎝2⎠⎠                                    "
      ]
     },
     "metadata": {},
     "output_type": "display_data"
    },
    {
     "name": "stdout",
     "output_type": "stream",
     "text": [
      "But then:\n"
     ]
    },
    {
     "data": {
      "image/png": "[encoded data removed]",
      "text/latex": [
       "$$e^{E} = \\frac{\\left(-1 + \\frac{1}{\\tan{\\left (\\frac{b}{2} \\right )}}\\right) \\left(\\tan{\\left (\\frac{b}{2} \\right )} + 1\\right)}{\\left(1 + \\frac{1}{\\tan{\\left (\\frac{b}{2} \\right )}}\\right) \\left(\\tan{\\left (\\frac{b}{2} \\right )} - 1\\right)}$$"
      ],
      "text/plain": [
       "     ⎛       1   ⎞ ⎛   ⎛b⎞    ⎞\n",
       "     ⎜-1 + ──────⎟⋅⎜tan⎜─⎟ + 1⎟\n",
       "     ⎜        ⎛b⎞⎟ ⎝   ⎝2⎠    ⎠\n",
       "     ⎜     tan⎜─⎟⎟             \n",
       " E   ⎝        ⎝2⎠⎠             \n",
       "ℯ  = ──────────────────────────\n",
       "     ⎛      1   ⎞ ⎛   ⎛b⎞    ⎞ \n",
       "     ⎜1 + ──────⎟⋅⎜tan⎜─⎟ - 1⎟ \n",
       "     ⎜       ⎛b⎞⎟ ⎝   ⎝2⎠    ⎠ \n",
       "     ⎜    tan⎜─⎟⎟              \n",
       "     ⎝       ⎝2⎠⎠              "
      ]
     },
     "metadata": {},
     "output_type": "display_data"
    },
    {
     "name": "stdout",
     "output_type": "stream",
     "text": [
      "which simplifies to:\n"
     ]
    },
    {
     "data": {
      "image/png": "[encoded data removed]",
      "text/latex": [
       "$$e^{E} = -1$$"
      ],
      "text/plain": [
       " E     \n",
       "ℯ  = -1"
      ]
     },
     "metadata": {},
     "output_type": "display_data"
    },
    {
     "name": "stdout",
     "output_type": "stream",
     "text": [
      "So that the result of the integral would be:\n"
     ]
    },
    {
     "data": {
      "image/png": "[encoded data removed]",
      "text/latex": [
       "$$i \\pi \\tan{\\left (b \\right )} - \\pi$$"
      ],
      "text/plain": [
       "ⅈ⋅π⋅tan(b) - π"
      ]
     },
     "metadata": {},
     "output_type": "display_data"
    },
    {
     "name": "stdout",
     "output_type": "stream",
     "text": [
      "Which can't be true because the integrand is always real in the interval.\n"
     ]
    }
   ],
   "source": [
    "f = sp.Function(\"f\")(x)\n",
    "intdF = sp.integrate(f, (x, -sp.pi/2, sp.pi/2)).subs(f, dFexpr)\n",
    "print(\"If there was no singularity, then:\")\n",
    "display(sp.Eq(intdF, F.subs(x, sp.pi/2) - F.subs(x, -sp.pi/2)))\n",
    "\n",
    "print(\"And since:\")\n",
    "r1 = F.subs(x, sp.pi/2) - F.subs(x, -sp.pi/2)\n",
    "r2 = Fexpr.subs(x, sp.pi/2) - Fexpr.subs(x, -sp.pi/2)\n",
    "Eexpr = F1.subs(x, sp.pi/2) - F1.subs(x, -sp.pi/2)\n",
    "r4 = E*sp.tan(b) - sp.pi\n",
    "r4expr = Eexpr*sp.tan(b) - sp.pi\n",
    "r42 = sp.Eq(r4expr, r2)\n",
    "E = sp.Symbol(\"E\")\n",
    "assert r23.simplify() == True\n",
    "display(sp.Eq(r1, r4))\n",
    "print(\"where:\")\n",
    "display(sp.Eq(E, Eexpr))\n",
    "\n",
    "print(\"which expands to:\")\n",
    "Eexpre = F1expr.subs(x, sp.pi/2) - F1expr.subs(x, -sp.pi/2)\n",
    "display(sp.Eq(E, Eexpre))\n",
    "\n",
    "print(\"But then:\")\n",
    "display(sp.Eq(sp.exp(E), sp.exp(Eexpre)))\n",
    "print(\"which simplifies to:\")\n",
    "display(sp.Eq(sp.exp(E), sp.exp(Eexpre).simplify()))\n",
    "\n",
    "print(\"So that the result of the integral would be:\")\n",
    "display(sp.I*sp.pi*sp.tan(b) - sp.pi)\n",
    "print(\"Which can't be true because the integrand is always real in the interval.\")"
   ]
  },
  {
   "cell_type": "markdown",
   "metadata": {},
   "source": []
  },
  {
   "cell_type": "code",
   "execution_count": null,
   "metadata": {},
   "outputs": [],
   "source": []
  },
  {
   "cell_type": "code",
   "execution_count": null,
   "metadata": {},
   "outputs": [],
   "source": []
  }
 ],
 "metadata": {
  "kernelspec": {
   "display_name": "Python 3",
   "language": "python",
   "name": "python3"
  },
  "language_info": {
   "codemirror_mode": {
    "name": "ipython",
    "version": 3
   },
   "file_extension": ".py",
   "mimetype": "text/x-python",
   "name": "python",
   "nbconvert_exporter": "python",
   "pygments_lexer": "ipython3",
   "version": "3.7.0"
  }
 },
 "nbformat": 4,
 "nbformat_minor": 2
}
