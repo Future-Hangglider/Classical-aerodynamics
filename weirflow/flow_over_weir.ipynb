{
 "cells": [
  {
   "cell_type": "markdown",
   "metadata": {},
   "source": [
    "p42 of this slide deck\n",
    "https://www.slideshare.net/yourmohsin/chapter-2-open-channel-hydraulics\n",
    "\n",
    "![alt text](files/broadcrestedweir.png \"broadcrestedweir\")"
   ]
  },
  {
   "cell_type": "code",
   "execution_count": 1,
   "metadata": {},
   "outputs": [],
   "source": [
    "from matplotlib import pyplot as plt\n",
    "%matplotlib inline\n",
    "import sympy as sp\n",
    "import math\n",
    "from sympy.interactive import printing\n",
    "from IPython.display import display\n",
    "printing.init_printing(use_latex='mathjax')\n"
   ]
  },
  {
   "cell_type": "code",
   "execution_count": 2,
   "metadata": {},
   "outputs": [
    {
     "data": {
      "text/latex": [
       "$$H + \\frac{V_{1}^{2}}{2 g} + Z = \\frac{V_{c}^{2}}{2 g} + Z + y_{c}$$"
      ],
      "text/plain": [
       "      2          2          \n",
       "    V₁        V_c           \n",
       "H + ─── + Z = ──── + Z + y_c\n",
       "    2⋅g       2⋅g           "
      ]
     },
     "metadata": {},
     "output_type": "display_data"
    }
   ],
   "source": [
    "Y_1, H, Z, V_1, y_c, V_c, L, g = sp.symbols(\"Y_1 H Z V_1 y_c V_c L g\")\n",
    "\n",
    "eq_energy = sp.Eq(H + Z + V_1**2/(2*g), Z + y_c + V_c**2/(2*g))\n",
    "display(eq_energy)"
   ]
  },
  {
   "cell_type": "code",
   "execution_count": 3,
   "metadata": {},
   "outputs": [
    {
     "data": {
      "text/latex": [
       "$$\\frac{V_{c}^{2}}{2 g} = \\frac{y_{c}}{2}$$"
      ],
      "text/plain": [
       "   2      \n",
       "V_c    y_c\n",
       "──── = ───\n",
       "2⋅g     2 "
      ]
     },
     "metadata": {},
     "output_type": "display_data"
    }
   ],
   "source": [
    "#For critical flow (What is this equation!!!)\n",
    "eq_criticalflow = sp.Eq(V_c**2/(2*g), y_c/2)\n",
    "display(eq_criticalflow)"
   ]
  },
  {
   "cell_type": "code",
   "execution_count": 4,
   "metadata": {},
   "outputs": [
    {
     "data": {
      "text/latex": [
       "$$H + \\frac{V_{1}^{2}}{2 g} + Z = \\frac{3 V_{c}^{2}}{2 g} + Z$$"
      ],
      "text/plain": [
       "      2            2    \n",
       "    V₁        3⋅V_c     \n",
       "H + ─── + Z = ────── + Z\n",
       "    2⋅g        2⋅g      "
      ]
     },
     "metadata": {},
     "output_type": "display_data"
    },
    {
     "data": {
      "text/latex": [
       "$$\\frac{\\sqrt{6 H g + 3 V_{1}^{2}}}{3}$$"
      ],
      "text/plain": [
       "   _______________\n",
       "  ╱             2 \n",
       "╲╱  6⋅H⋅g + 3⋅V₁  \n",
       "──────────────────\n",
       "        3         "
      ]
     },
     "metadata": {},
     "output_type": "display_data"
    }
   ],
   "source": [
    "eq2 = eq_energy.replace(eq_criticalflow.rhs*2, eq_criticalflow.lhs*2)\n",
    "display(eq2)\n",
    "eq2s = sp.solve(eq2, V_c)\n",
    "V_c_solve = eq2s[1]\n",
    "display(V_c_solve)"
   ]
  },
  {
   "cell_type": "code",
   "execution_count": 5,
   "metadata": {},
   "outputs": [
    {
     "data": {
      "text/latex": [
       "$$0$$"
      ],
      "text/plain": [
       "0"
      ]
     },
     "metadata": {},
     "output_type": "display_data"
    }
   ],
   "source": [
    "# evaluates to 0 to show same as in slide\n",
    "display((V_c_solve - sp.sqrt(2*g/3*(H + V_1**2/(2*g)))).simplify())"
   ]
  },
  {
   "cell_type": "code",
   "execution_count": 6,
   "metadata": {},
   "outputs": [
    {
     "data": {
      "text/latex": [
       "$$Q = \\frac{L V_{c}^{3}}{g}$$"
      ],
      "text/plain": [
       "         3\n",
       "    L⋅V_c \n",
       "Q = ──────\n",
       "      g   "
      ]
     },
     "metadata": {},
     "output_type": "display_data"
    }
   ],
   "source": [
    "Q = sp.symbols(\"Q\")\n",
    "Qrhs = L*y_c*V_c\n",
    "Qrhs = Qrhs.replace(eq_criticalflow.rhs*2, eq_criticalflow.lhs*2)\n",
    "display(sp.Eq(Q, Qrhs))\n"
   ]
  },
  {
   "cell_type": "code",
   "execution_count": 7,
   "metadata": {},
   "outputs": [
    {
     "data": {
      "text/latex": [
       "$$\\frac{\\sqrt{3} L \\left(2 H g + V_{1}^{2}\\right)^{\\frac{3}{2}}}{9 g}$$"
      ],
      "text/plain": [
       "                  3/2\n",
       "     ⎛          2⎞   \n",
       "√3⋅L⋅⎝2⋅H⋅g + V₁ ⎠   \n",
       "─────────────────────\n",
       "         9⋅g         "
      ]
     },
     "metadata": {},
     "output_type": "display_data"
    }
   ],
   "source": [
    "Qrhs = Qrhs.replace(V_c, V_c_solve).simplify()\n",
    "display(Qrhs)"
   ]
  },
  {
   "cell_type": "code",
   "execution_count": 8,
   "metadata": {},
   "outputs": [
    {
     "data": {
      "text/latex": [
       "$$0$$"
      ],
      "text/plain": [
       "0"
      ]
     },
     "execution_count": 8,
     "metadata": {},
     "output_type": "execute_result"
    }
   ],
   "source": [
    "# Proof is the same as in the slide\n",
    "(Qrhs - L/g* sp.sqrt(2*g/3*(H + V_1**2/(2*g)))**3).simplify()"
   ]
  },
  {
   "cell_type": "code",
   "execution_count": null,
   "metadata": {},
   "outputs": [],
   "source": []
  },
  {
   "cell_type": "code",
   "execution_count": null,
   "metadata": {},
   "outputs": [],
   "source": []
  },
  {
   "cell_type": "code",
   "execution_count": null,
   "metadata": {},
   "outputs": [],
   "source": []
  },
  {
   "cell_type": "code",
   "execution_count": null,
   "metadata": {},
   "outputs": [],
   "source": []
  }
 ],
 "metadata": {
  "kernelspec": {
   "display_name": "Python 3",
   "language": "python",
   "name": "python3"
  },
  "language_info": {
   "codemirror_mode": {
    "name": "ipython",
    "version": 3
   },
   "file_extension": ".py",
   "mimetype": "text/x-python",
   "name": "python",
   "nbconvert_exporter": "python",
   "pygments_lexer": "ipython3",
   "version": "3.7.0"
  }
 },
 "nbformat": 4,
 "nbformat_minor": 2
}
