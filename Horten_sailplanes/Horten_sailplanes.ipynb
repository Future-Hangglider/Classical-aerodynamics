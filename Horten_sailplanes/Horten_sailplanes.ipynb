{
 "cells": [
  {
   "cell_type": "markdown",
   "metadata": {},
   "source": [
    "## [Tailless Aircraft in theory and practice](https://www.abebooks.co.uk/servlet/SearchResults?sts=t&isbn=0-340-61402-1)\n",
    "\n",
    "### Chapter 2.7 The Swept Tapered wing as a model wing\n"
   ]
  },
  {
   "cell_type": "code",
   "execution_count": 1,
   "metadata": {},
   "outputs": [],
   "source": [
    "#Tailless Aircraft in theory and practice\n",
    "# Chapter 2.7 The Swept Tapered wing as a model wing\n",
    "\n",
    "from matplotlib import pyplot as plt\n",
    "%matplotlib inline\n",
    "import sympy as sp\n",
    "import math\n",
    "from sympy.interactive import printing\n",
    "from IPython.display import display\n",
    "#printing.init_printing(use_latex=True)\n",
    "printing.init_printing(use_latex='mathjax')\n"
   ]
  },
  {
   "cell_type": "markdown",
   "metadata": {},
   "source": [
    "![alt text](files/wingsp42.png \"p42\")"
   ]
  },
  {
   "cell_type": "code",
   "execution_count": 2,
   "metadata": {},
   "outputs": [
    {
     "data": {
      "text/latex": [
       "$$S = 2 \\int_{0}^{s} l{\\left (y \\right )}\\, dy$$"
      ],
      "text/plain": [
       "      s        \n",
       "      ⌠        \n",
       "S = 2⋅⎮ l(y) dy\n",
       "      ⌡        \n",
       "      0        "
      ]
     },
     "metadata": {},
     "output_type": "display_data"
    },
    {
     "data": {
      "text/latex": [
       "$$\\lambda = \\frac{4 s^{2}}{S}$$"
      ],
      "text/plain": [
       "       2\n",
       "    4⋅s \n",
       "λ = ────\n",
       "     S  "
      ]
     },
     "metadata": {},
     "output_type": "display_data"
    },
    {
     "data": {
      "text/latex": [
       "$$c_{L} = \\frac{2 \\int_{0}^{s} \\operatorname{c_{l}}{\\left (y \\right )} l{\\left (y \\right )}\\, dy}{S}$$"
      ],
      "text/plain": [
       "        s              \n",
       "        ⌠              \n",
       "      2⋅⎮ cₗ(y)⋅l(y) dy\n",
       "        ⌡              \n",
       "        0              \n",
       "c_L = ─────────────────\n",
       "              S        "
      ]
     },
     "metadata": {},
     "output_type": "display_data"
    }
   ],
   "source": [
    "# general wing geometry definitions\n",
    "x = sp.Symbol(\"x\", real=True)    # along chord\n",
    "y = sp.Symbol(\"y\", real=True)    # along wingspan\n",
    "s = sp.Symbol(\"s\", positive=True)     # wingspan is y = -s to +s\n",
    "\n",
    "# Wing is symmetric, but sympy is bad at handling abs(),\n",
    "# so expressions will be given in half-integrals, from 0 to s\n",
    "# instead of from -s to s\n",
    "l = sp.Function(\"l\")(y)     # wing chord length\n",
    "c_l = sp.Function(\"c_l\")(y) # wing chord length\n",
    "h = sp.Function(\"h\")(y)     # distance of neutral point from y-axis\n",
    "S = sp.Symbol(\"S\")          # wing area\n",
    "lam = sp.Symbol(\"lambda\")   # aspect ratio\n",
    "c_L = sp.Symbol(\"c_L\")      # overall lift coefficient\n",
    "\n",
    "eq_S = sp.Eq(S, 2*sp.integrate(l, (y, 0, s))) # (2.2.1)\n",
    "eq_lam = sp.Eq(lam, (2*s)**2/S) # (2.2.1)\n",
    "eq_c_L = sp.Eq(c_L, (1/S) * 2*sp.integrate(c_l*l, (y, 0, s))) # (2.2.5) \n",
    "\n",
    "display(eq_S)\n",
    "display(eq_lam)\n",
    "display(eq_c_L)"
   ]
  },
  {
   "cell_type": "markdown",
   "metadata": {},
   "source": [
    "![alt text](files/wingsp45.png \"p45\")"
   ]
  },
  {
   "cell_type": "code",
   "execution_count": 3,
   "metadata": {},
   "outputs": [
    {
     "data": {
      "text/latex": [
       "$$l_{\\mu} = \\frac{2 \\int_{0}^{s} l^{2}{\\left (y \\right )}\\, dy}{S}$$"
      ],
      "text/plain": [
       "        s         \n",
       "        ⌠         \n",
       "        ⎮  2      \n",
       "      2⋅⎮ l (y) dy\n",
       "        ⌡         \n",
       "        0         \n",
       "lₘᵤ = ────────────\n",
       "           S      "
      ]
     },
     "metadata": {},
     "output_type": "display_data"
    }
   ],
   "source": [
    "l_mu = sp.Symbol(\"l_mu\")      # aerodynamic mean chord\n",
    "eq_l_mu = sp.Eq(l_mu, (2/S)*sp.integrate(l**2, (y, 0, s)))\n",
    "display(eq_l_mu)"
   ]
  },
  {
   "cell_type": "code",
   "execution_count": 4,
   "metadata": {},
   "outputs": [
    {
     "data": {
      "text/latex": [
       "$$\\gamma{\\left (y \\right )} = \\operatorname{c_{l}}{\\left (y \\right )} l{\\left (y \\right )}$$"
      ],
      "text/plain": [
       "γ(y) = cₗ(y)⋅l(y)"
      ]
     },
     "metadata": {},
     "output_type": "display_data"
    },
    {
     "data": {
      "text/latex": [
       "$$\\gamma_{E}{\\left (y \\right )} = \\frac{8 c_{L} \\sqrt{s^{2} - y^{2}}}{\\pi \\lambda}$$"
      ],
      "text/plain": [
       "                  _________\n",
       "                 ╱  2    2 \n",
       "         8⋅c_L⋅╲╱  s  - y  \n",
       "γ_E(y) = ──────────────────\n",
       "                π⋅λ        "
      ]
     },
     "metadata": {},
     "output_type": "display_data"
    }
   ],
   "source": [
    "gamma = sp.Function(\"gamma\")(y)     # local lift density\n",
    "eq_gamma = sp.Eq(gamma, c_l*l)      # (2.2.4)\n",
    "\n",
    "gamma_E = sp.Function(\"gamma_E\")(y) # Elliptical lift distribution\n",
    "eq_gamma_E = sp.Eq(gamma_E, 8/(sp.pi*lam)*c_L*sp.sqrt(s**2 - y**2)) # (2.3.4)\n",
    "\n",
    "display(eq_gamma)\n",
    "display(eq_gamma_E)\n"
   ]
  },
  {
   "cell_type": "code",
   "execution_count": 5,
   "metadata": {},
   "outputs": [
    {
     "data": {
      "text/plain": [
       "'proof that the following is right'"
      ]
     },
     "metadata": {},
     "output_type": "display_data"
    },
    {
     "data": {
      "text/latex": [
       "$$\\gamma_{E}{\\left (y \\right )} = \\frac{8 c_{L} \\sqrt{s^{2} - y^{2}}}{\\pi \\lambda}$$"
      ],
      "text/plain": [
       "                  _________\n",
       "                 ╱  2    2 \n",
       "         8⋅c_L⋅╲╱  s  - y  \n",
       "γ_E(y) = ──────────────────\n",
       "                π⋅λ        "
      ]
     },
     "metadata": {},
     "output_type": "display_data"
    },
    {
     "data": {
      "text/latex": [
       "$$c_{L}$$"
      ],
      "text/plain": [
       "c_L"
      ]
     },
     "metadata": {},
     "output_type": "display_data"
    },
    {
     "data": {
      "text/plain": [
       "'is'"
      ]
     },
     "metadata": {},
     "output_type": "display_data"
    },
    {
     "data": {
      "text/latex": [
       "$$c_{L}$$"
      ],
      "text/plain": [
       "c_L"
      ]
     },
     "metadata": {},
     "output_type": "display_data"
    }
   ],
   "source": [
    "# perform substitution for gamma_E (a value of gamma)\n",
    "display(\"proof that the following is right\", eq_gamma_E)\n",
    "display(eq_c_L.rhs.replace(eq_gamma.rhs, eq_gamma_E.rhs).\\\n",
    "                   replace(eq_lam.lhs, eq_lam.rhs).doit(), \n",
    "        \"is\", eq_c_L.lhs)"
   ]
  },
  {
   "cell_type": "markdown",
   "metadata": {},
   "source": [
    "![alt text](files/wingsp74.png \"p74\")"
   ]
  },
  {
   "cell_type": "code",
   "execution_count": 6,
   "metadata": {},
   "outputs": [
    {
     "data": {
      "text/latex": [
       "$$\\operatorname{x_{\\gamma}}{\\left (y \\right )} = \\frac{2 \\int_{0}^{s} \\gamma{\\left (y \\right )} h{\\left (y \\right )}\\, dy}{S c_{L}}$$"
      ],
      "text/plain": [
       "          s             \n",
       "          ⌠             \n",
       "        2⋅⎮ γ(y)⋅h(y) dy\n",
       "          ⌡             \n",
       "          0             \n",
       "xᵧ(y) = ────────────────\n",
       "             S⋅c_L      "
      ]
     },
     "metadata": {},
     "output_type": "display_data"
    },
    {
     "data": {
      "text/latex": [
       "$$x_{E} = \\frac{16 \\int_{0}^{s} \\sqrt{s^{2} - y^{2}} h{\\left (y \\right )}\\, dy}{\\pi S \\lambda}$$"
      ],
      "text/plain": [
       "         s                     \n",
       "         ⌠                     \n",
       "         ⎮    _________        \n",
       "         ⎮   ╱  2    2         \n",
       "      16⋅⎮ ╲╱  s  - y  ⋅h(y) dy\n",
       "         ⌡                     \n",
       "         0                     \n",
       "x_E = ─────────────────────────\n",
       "                π⋅S⋅λ          "
      ]
     },
     "metadata": {},
     "output_type": "display_data"
    },
    {
     "data": {
      "text/latex": [
       "$$x_{C} = \\frac{2 \\int_{0}^{s} h{\\left (y \\right )} l{\\left (y \\right )}\\, dy}{S}$$"
      ],
      "text/plain": [
       "        s             \n",
       "        ⌠             \n",
       "      2⋅⎮ h(y)⋅l(y) dy\n",
       "        ⌡             \n",
       "        0             \n",
       "x_C = ────────────────\n",
       "             S        "
      ]
     },
     "metadata": {},
     "output_type": "display_data"
    }
   ],
   "source": [
    "x_gamma = sp.Symbol(\"x_gamma\")(y)  # centre of lift\n",
    "eq_x_gamma = sp.Eq(x_gamma, 2*sp.integrate(gamma*h, (y, 0, s))/(c_L*S)) # (2.6.1)\n",
    "display(eq_x_gamma) \n",
    "\n",
    "x_E = sp.Symbol(\"x_E\")   # E-point, centre of lift for elliptic distribution\n",
    "eq_x_E = sp.Eq(x_E, eq_x_gamma.rhs.replace(eq_gamma.lhs, eq_gamma_E.rhs).doit())  # (2.6.1)\n",
    "display(eq_x_E)\n",
    "\n",
    "x_C = sp.Symbol(\"x_C\")   # C-point, centre of lift for constant distribution\n",
    "eq_x_C = sp.Eq(x_C, \n",
    "               eq_x_gamma.rhs.replace(eq_gamma.lhs, eq_gamma.rhs).\\\n",
    "               replace(eq_c_L.lhs, eq_c_L.rhs).\\\n",
    "               replace(c_l, 1).replace(eq_S.rhs/2, eq_S.lhs/2)) # (2.6.2)\n",
    "display(eq_x_C)"
   ]
  },
  {
   "cell_type": "markdown",
   "metadata": {},
   "source": [
    "## Special case of trapezoidal wing\n",
    "\n",
    "![alt text](files/wingsp75.png \"p75\")"
   ]
  },
  {
   "cell_type": "code",
   "execution_count": 7,
   "metadata": {},
   "outputs": [
    {
     "data": {
      "text/latex": [
       "$$\\phi_{N} = \\operatorname{atan}{\\left (\\frac{H}{s} \\right )}$$"
      ],
      "text/plain": [
       "          ⎛H⎞\n",
       "φ_N = atan⎜─⎟\n",
       "          ⎝s⎠"
      ]
     },
     "metadata": {},
     "output_type": "display_data"
    },
    {
     "data": {
      "text/latex": [
       "$$Z = \\frac{l{\\left (s \\right )}}{l{\\left (0 \\right )}}$$"
      ],
      "text/plain": [
       "    l(s)\n",
       "Z = ────\n",
       "    l(0)"
      ]
     },
     "metadata": {},
     "output_type": "display_data"
    }
   ],
   "source": [
    "# Special case of trapizoidal wing\n",
    "H = sp.Symbol(\"H\", positive=True)  # lever edge sweep\n",
    "phi_N = sp.Symbol(\"phi_N\")\n",
    "eq_phi_N = sp.Eq(phi_N, sp.atan(H/s))\n",
    "display(eq_phi_N)\n",
    "l0 = l.subs(y, 0)   # chord length at root\n",
    "ls = l.subs(y, s)   # chord length at tip\n",
    "Z = sp.Symbol(\"Z\")  # taper ratio\n",
    "eq_Z = sp.Eq(Z, ls/l0)  # (2.7.1)\n",
    "display(eq_Z)"
   ]
  },
  {
   "cell_type": "markdown",
   "metadata": {},
   "source": [
    "![alt text](files/wingsp76.png \"p76\")"
   ]
  },
  {
   "cell_type": "code",
   "execution_count": 8,
   "metadata": {},
   "outputs": [
    {
     "name": "stdout",
     "output_type": "stream",
     "text": [
      "0\n",
      "0\n",
      "0\n"
     ]
    }
   ],
   "source": [
    "lH = l0 + (ls - l0)*y/s  # Horten value of l\n",
    "hH = H*y/s + lH/4        # Horten value of h\n",
    "\n",
    "SH = eq_S.rhs.replace(l, lH).doit().simplify()\n",
    "print(SH - s*(ls + l0))  # (2.7.2)\n",
    "P = sp.Symbol(\"P\")       # Pfeilmass\n",
    "eq_P = sp.Eq(P, (hH.subs(y,s) - hH.subs(y,0))/2)\n",
    "print(eq_P.rhs - (1/8)*(4*H + ls - l0))  # (2.7.3)\n",
    "\n",
    "x_EH = l0/4 + 8*P/(3*sp.pi)   # (2.7.4)\n",
    "print((eq_x_E.rhs.replace(h, hH).\\\n",
    "      replace(eq_lam.lhs, eq_lam.rhs).\\\n",
    "      replace(S, SH).doit() - x_EH.replace(P, eq_P.rhs)).simplify())"
   ]
  },
  {
   "cell_type": "code",
   "execution_count": 9,
   "metadata": {},
   "outputs": [
    {
     "name": "stdout",
     "output_type": "stream",
     "text": [
      "0\n"
     ]
    }
   ],
   "source": [
    "# Problem with C-point\n",
    "x_CH = eq_x_C.rhs.replace(l, lH).replace(h, hH).replace(S, SH).doit().\\\n",
    "        replace(H, sp.solve(eq_P, H)[0]).\\\n",
    "        replace(ls, l0*Z).simplify()\n",
    "\n",
    "print((x_CH - (l0/4 + (2*P*(2*Z + 1)/3/(Z+1)))).simplify())\n",
    "\n",
    "# WRONG:\n",
    "x_CHwritten = (l0/4 + (2*P*(2*Z + 1)/(Z+1)))  # (2.7.5)"
   ]
  },
  {
   "cell_type": "markdown",
   "metadata": {},
   "source": [
    "![alt text](files/wingsp77.png \"p77\")"
   ]
  },
  {
   "cell_type": "code",
   "execution_count": 10,
   "metadata": {},
   "outputs": [
    {
     "data": {
      "text/latex": [
       "$$\\frac{2 \\left(Z^{2} + Z + 1\\right) l{\\left (0 \\right )}}{3 \\left(Z + 1\\right)}$$"
      ],
      "text/plain": [
       "  ⎛ 2        ⎞     \n",
       "2⋅⎝Z  + Z + 1⎠⋅l(0)\n",
       "───────────────────\n",
       "     3⋅(Z + 1)     "
      ]
     },
     "metadata": {},
     "output_type": "display_data"
    }
   ],
   "source": [
    "l_muH = eq_l_mu.rhs.replace(l, lH).replace(S, SH).replace(ls, l0*Z).doit().simplify()\n",
    "display(l_muH)  # (2.7.6)"
   ]
  },
  {
   "cell_type": "code",
   "execution_count": null,
   "metadata": {},
   "outputs": [],
   "source": []
  },
  {
   "cell_type": "code",
   "execution_count": 11,
   "metadata": {},
   "outputs": [
    {
     "data": {
      "text/latex": [
       "$$\\left ( \\frac{4}{3 \\pi}, \\quad 0.4244131815783876\\right )$$"
      ],
      "text/plain": [
       "⎛ 4                     ⎞\n",
       "⎜───, 0.4244131815783876⎟\n",
       "⎝3⋅π                    ⎠"
      ]
     },
     "execution_count": 11,
     "metadata": {},
     "output_type": "execute_result"
    }
   ],
   "source": [
    "# Need to make graph on p81 with lam=10 and varying Z\n",
    "egraph = ((x_EH - l0/4)/(2*P)).simplify()\n",
    "egraph, float(egraph)\n"
   ]
  },
  {
   "cell_type": "markdown",
   "metadata": {},
   "source": [
    "![alt text](files/wingsp81.png \"p81\")"
   ]
  },
  {
   "cell_type": "code",
   "execution_count": 12,
   "metadata": {},
   "outputs": [
    {
     "data": {
      "text/latex": [
       "$$\\frac{2 Z + 1}{3 \\left(Z + 1\\right)}$$"
      ],
      "text/plain": [
       " 2⋅Z + 1 \n",
       "─────────\n",
       "3⋅(Z + 1)"
      ]
     },
     "metadata": {},
     "output_type": "display_data"
    },
    {
     "data": {
      "image/png": "[encoded data removed]",
      "text/plain": [
       "<Figure size 432x288 with 1 Axes>"
      ]
     },
     "metadata": {
      "needs_background": "light"
     },
     "output_type": "display_data"
    }
   ],
   "source": [
    "# works if you put in correct x_CH into graph\n",
    "cgraph = ((x_CH - l0/4)/(2*P)).simplify()\n",
    "display(cgraph)\n",
    "\n",
    "import numpy\n",
    "from matplotlib import pyplot as plt\n",
    "%matplotlib inline\n",
    "\n",
    "Zs = numpy.linspace(0, 1, 21)\n",
    "Cs = [ float(cgraph.subs(Z, Zval))  for Zval in Zs ]\n",
    "plt.plot(Zs, Cs, label=\"C-point\")\n",
    "plt.plot(Zs, [egraph]*len(Zs), label=\"E-point\")\n",
    "plt.xlabel(\"Z\")\n",
    "plt.ylabel(\"(x - l(0)/4)/(2*P)\");\n",
    "plt.legend();"
   ]
  },
  {
   "cell_type": "code",
   "execution_count": null,
   "metadata": {},
   "outputs": [],
   "source": []
  },
  {
   "cell_type": "code",
   "execution_count": null,
   "metadata": {},
   "outputs": [],
   "source": []
  },
  {
   "cell_type": "code",
   "execution_count": 14,
   "metadata": {},
   "outputs": [
    {
     "data": {
      "text/latex": [
       "$$x_{N} = \\frac{\\int_{0}^{s} \\operatorname{c^{\\alpha}_{l}}{\\left (y \\right )} h{\\left (y \\right )} l{\\left (y \\right )}\\, dy}{\\int_{0}^{s} \\operatorname{c^{\\alpha}_{l}}{\\left (y \\right )} l{\\left (y \\right )}\\, dy}$$"
      ],
      "text/plain": [
       "      s                       \n",
       "      ⌠                       \n",
       "      ⎮ c_l__α(y)⋅h(y)⋅l(y) dy\n",
       "      ⌡                       \n",
       "      0                       \n",
       "x_N = ────────────────────────\n",
       "        s                     \n",
       "        ⌠                     \n",
       "        ⎮ c_l__α(y)⋅l(y) dy   \n",
       "        ⌡                     \n",
       "        0                     "
      ]
     },
     "execution_count": 14,
     "metadata": {},
     "output_type": "execute_result"
    }
   ],
   "source": [
    "# For bonus hard case, calculate the neutral point x_N \n",
    "alpha = sp.Symbol(\"alpha\")\n",
    "c_lalpha = sp.Function(\"c_l^alpha\")(y)  # stands for dc_l/dalpha\n",
    "x_N = sp.Symbol(\"x_N\")  # (2.2.10)\n",
    "eq_x_N = sp.Eq(x_N, sp.integrate(c_lalpha*l*h, (y, 0, s))/sp.integrate(c_lalpha*l, (y, 0, s)))\n",
    "eq_x_N"
   ]
  },
  {
   "cell_type": "code",
   "execution_count": 16,
   "metadata": {},
   "outputs": [
    {
     "data": {
      "text/plain": [
       "'We assume that c_lapha is constant and cancels out'"
      ]
     },
     "metadata": {},
     "output_type": "display_data"
    },
    {
     "data": {
      "text/latex": [
       "$$\\frac{2 H l{\\left (0 \\right )} + 4 H l{\\left (s \\right )} + l^{2}{\\left (0 \\right )} + l{\\left (0 \\right )} l{\\left (s \\right )} + l^{2}{\\left (s \\right )}}{6 \\left(l{\\left (0 \\right )} + l{\\left (s \\right )}\\right)}$$"
      ],
      "text/plain": [
       "                       2                   2   \n",
       "2⋅H⋅l(0) + 4⋅H⋅l(s) + l (0) + l(0)⋅l(s) + l (s)\n",
       "───────────────────────────────────────────────\n",
       "                6⋅(l(0) + l(s))                "
      ]
     },
     "metadata": {},
     "output_type": "display_data"
    }
   ],
   "source": [
    "# substitute the H values and assume c_lalpha is constant\n",
    "x_NH = eq_x_N.rhs.replace(h, hH).replace(l, lH).doit().simplify()\n",
    "#display(x_NH)\n",
    "display(\"We assume that c_lapha is constant and cancels out\")\n",
    "x_NHconstalpha = x_NH.replace(c_lalpha, 1).doit().simplify()\n",
    "display(x_NHconstalpha)"
   ]
  },
  {
   "cell_type": "code",
   "execution_count": 17,
   "metadata": {},
   "outputs": [
    {
     "data": {
      "text/latex": [
       "$$\\frac{Z^{2} + Z + 5 \\left(Z + 1\\right) \\left(2 Z + 1\\right) \\tan{\\left (\\phi_{N} \\right )} + 1}{15 \\left(Z + 1\\right)^{2}}$$"
      ],
      "text/plain": [
       " 2                                       \n",
       "Z  + Z + 5⋅(Z + 1)⋅(2⋅Z + 1)⋅tan(φ_N) + 1\n",
       "─────────────────────────────────────────\n",
       "                         2               \n",
       "               15⋅(Z + 1)                "
      ]
     },
     "execution_count": 17,
     "metadata": {},
     "output_type": "execute_result"
    }
   ],
   "source": [
    "# solve the lambda=10 case\n",
    "l0H = sp.solve((eq_lam.rhs - 10).replace(S, SH).replace(ls, l0*Z), l0)[0]\n",
    "Nvalms = x_NHconstalpha.replace(ls, Z*l0).\\\n",
    "         replace(H, sp.solve(eq_phi_N, H)[0]).\\\n",
    "         replace(l0, l0H).simplify()\n",
    "Nval = Nvalms/s\n",
    "Nval"
   ]
  },
  {
   "cell_type": "code",
   "execution_count": 18,
   "metadata": {},
   "outputs": [
    {
     "data": {
      "image/png": "[encoded data removed]",
      "text/plain": [
       "<Figure size 432x288 with 1 Axes>"
      ]
     },
     "metadata": {
      "needs_background": "light"
     },
     "output_type": "display_data"
    }
   ],
   "source": [
    "plt.plot(Zs, Cs, label=\"C-point\")\n",
    "plt.plot(Zs, [egraph]*len(Zs), label=\"E-point\")\n",
    "plt.xlabel(\"Z\")\n",
    "plt.ylabel(\"(x - l(0)/4)/(2*P)\");\n",
    "\n",
    "for phi in [0, 15, 30, 45]:\n",
    "    Ns = [ float(Nval.subs(Z, Zval).subs(phi_N, math.radians(phi)))  for Zval in Zs ]\n",
    "    plt.plot(Zs, Ns, label=\"phi=%d\"%phi)\n",
    "plt.title(\"lambda=10\")\n",
    "plt.legend();\n"
   ]
  },
  {
   "cell_type": "markdown",
   "metadata": {},
   "source": [
    "### Also fails on Figure 2.7.4\n",
    "![alt text](files/wingsp81b.png \"p81b\")"
   ]
  },
  {
   "cell_type": "code",
   "execution_count": 20,
   "metadata": {},
   "outputs": [
    {
     "data": {
      "image/png": "[encoded data removed]",
      "text/plain": [
       "<Figure size 432x288 with 1 Axes>"
      ]
     },
     "metadata": {
      "needs_background": "light"
     },
     "output_type": "display_data"
    }
   ],
   "source": [
    "plt.plot(Zs, Cs, label=\"C-point\")\n",
    "plt.plot(Zs, [egraph]*len(Zs), label=\"E-point\")\n",
    "plt.xlabel(\"Z\")\n",
    "plt.ylabel(\"(x - l(0)/4)/(2*P)\");\n",
    "\n",
    "for lamval in [6, 10, 15]:\n",
    "    l0H = sp.solve((eq_lam.rhs - lamval).replace(S, SH).replace(ls, l0*Z), l0)[0]\n",
    "    Nvalms = x_NHconstalpha.replace(ls, Z*l0).\\\n",
    "             replace(H, sp.solve(eq_phi_N, H)[0]).\\\n",
    "             replace(l0, l0H).simplify()\n",
    "    Nval = Nvalms/s\n",
    "    Nval\n",
    "    Ns = [ float(Nval.subs(Z, Zval).subs(phi_N, math.radians(15)))  for Zval in Zs ]\n",
    "    plt.plot(Zs, Ns, label=\"lambda=%d\"%lamval)\n",
    "\n",
    "plt.legend();\n"
   ]
  },
  {
   "cell_type": "code",
   "execution_count": null,
   "metadata": {},
   "outputs": [],
   "source": []
  }
 ],
 "metadata": {
  "kernelspec": {
   "display_name": "Python 3",
   "language": "python",
   "name": "python3"
  },
  "language_info": {
   "codemirror_mode": {
    "name": "ipython",
    "version": 3
   },
   "file_extension": ".py",
   "mimetype": "text/x-python",
   "name": "python",
   "nbconvert_exporter": "python",
   "pygments_lexer": "ipython3",
   "version": "3.7.0"
  }
 },
 "nbformat": 4,
 "nbformat_minor": 2
}
